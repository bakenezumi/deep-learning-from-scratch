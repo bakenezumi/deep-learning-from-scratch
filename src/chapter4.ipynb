{
 "cells": [
  {
   "cell_type": "markdown",
   "metadata": {},
   "source": [
    "# 第4章 ニューラルネットワークの学習"
   ]
  },
  {
   "cell_type": "markdown",
   "metadata": {},
   "source": [
    "第3章で扱ったニューラルネットワークは、重み(${\\bf W}$)とバイアス(${\\bf b}$)を決めると、入力(${\\bf x}$)から出力(${\\bf y}$)が計算できます。この章で扱う学習は、多数のデータから${\\bf W}$と${\\bf b}$を計算する方法です。"
   ]
  },
  {
   "cell_type": "markdown",
   "metadata": {},
   "source": [
    "# 4.1 データから学習する"
   ]
  },
  {
   "cell_type": "markdown",
   "metadata": {},
   "source": [
    "データとして、多数の入力と出力の組みを持っていると仮定します。\n",
    "\n",
    "$({\\bf x}_1, {\\bf t}_1), ({\\bf x}_2, {\\bf t}_2), ({\\bf x}_3, {\\bf t}_3), \\cdots, ({\\bf x}_N, {\\bf t}_N)$\n",
    "\n",
    "RTBの場合は、$i$番目のBidRequestに付随するデータを${\\bf x}_i$とし、クリックしたかどうかを$t_i$とします。\n",
    "\n",
    "手書きの数字認識の問題では、画像のpixelデータを${\\bf x}_i$とし、0-9を表すデータを${\\bf t}_i$とします。\n",
    "\n",
    "入力${\\bf x}_i$が与えられたときに、ニューラルネットワークを使えば予測値${\\bf y}_i$が計算できます。\n",
    "\n",
    "可能な限り${\\bf y}_i$と${\\bf t}_i$が近くなるようなニューラルネットワークが構築できれば、様々な入力に対して適切な出力を返すことができます。"
   ]
  },
  {
   "cell_type": "markdown",
   "metadata": {},
   "source": [
    "# 4.2 損失関数"
   ]
  },
  {
   "cell_type": "markdown",
   "metadata": {},
   "source": [
    "コンピュータを使って最良のパラメータの組み合わせを決定するためには、データをどれだけよく再現するかを表現する指標が必要です。\n",
    "\n",
    "もっとも単純な指標は、教師データ${\\bf t}_i$と予測値${\\bf y}_i$の差を使って次のように定義される二乗和誤差です。\n",
    "\n",
    "$$\n",
    "    E = \\frac{1}{2}\\sum_k ({\\bf y}_k-{\\bf t}_k)^2\n",
    "$$\n",
    "\n",
    "教師データ${\\bf t}_i$と予測値${\\bf y}_i$が大きく異なると二乗和誤差は大きくなり、乖離が小さいと二乗和誤差は小さくなることがわかります。\n",
    "\n",
    "二乗和誤差のように教師データ${\\bf t}_i$と予測値${\\bf y}_i$の違いを表現する関数を損失関数と呼びます。"
   ]
  },
  {
   "cell_type": "markdown",
   "metadata": {},
   "source": [
    "別の損失関数として交差エントロピー誤差が使われます。\n",
    "\n",
    "$$\n",
    "    E = -\\sum_k t_k \\log y_k\n",
    "$$\n"
   ]
  },
  {
   "cell_type": "markdown",
   "metadata": {},
   "source": [
    "# 4.3 数値微分"
   ]
  },
  {
   "cell_type": "markdown",
   "metadata": {},
   "source": [
    "損失関数をもっとも小さくするような重み(${\\bf W}$)が計算することで最良のニューラルネットワークが計算できます。\n",
    "\n",
    "実は関数を最小化する計算(最適化)は関数の傾きの計算、すなわち微分から決定できます。"
   ]
  },
  {
   "cell_type": "markdown",
   "metadata": {},
   "source": [
    "# 4.3.1 微分"
   ]
  },
  {
   "cell_type": "code",
   "execution_count": 1,
   "metadata": {
    "pycharm": {
     "is_executing": false
    }
   },
   "outputs": [],
   "source": [
    "import numpy as np\n",
    "import matplotlib.pyplot as plt\n",
    "from ipywidgets import interact"
   ]
  },
  {
   "cell_type": "code",
   "execution_count": 2,
   "metadata": {
    "pycharm": {
     "is_executing": false
    }
   },
   "outputs": [
    {
     "data": {
      "image/png": "[encoded data removed]",
      "text/plain": [
       "<Figure size 432x288 with 1 Axes>"
      ]
     },
     "metadata": {
      "needs_background": "light"
     },
     "output_type": "display_data"
    }
   ],
   "source": [
    "xs = np.linspace(-1, 1)\n",
    "def plot_square():    \n",
    "    ys = xs*xs\n",
    "    plt.xlabel(\"x\")\n",
    "    plt.ylabel(\"y\")\n",
    "    plt.plot(xs, ys, \"k-\", label=\"y=f(x)\")\n",
    "plot_square()"
   ]
  },
  {
   "cell_type": "markdown",
   "metadata": {},
   "source": [
    "上の図は関数$f(x)=x^2$をプロットしたものです。この関数値(縦軸の値)をもっとも小さくなるような値(横軸の値)は何でしょうか？\n",
    "\n",
    "答えは明確で$x=0$です。では、$x=0$の特徴は何でしょうか？\n",
    "\n",
    "ひとつの特徴は、$x=0$において関数のグラフの**傾き**が$x$軸に対して水平になっていることです。\n",
    "\n",
    "**傾き**をもう少し詳しく見ていきましょう。"
   ]
  },
  {
   "cell_type": "markdown",
   "metadata": {},
   "source": [
    "直線の場合は**傾き**は明確です。直線を$y=ax$で表現すれば、$a$の値が傾きになります。"
   ]
  },
  {
   "cell_type": "code",
   "execution_count": 3,
   "metadata": {
    "pycharm": {
     "is_executing": false
    }
   },
   "outputs": [
    {
     "data": {
      "application/vnd.jupyter.widget-view+json": {
       "model_id": "7e63646994474b5e89eb4e809fc33eec",
       "version_major": 2,
       "version_minor": 0
      },
      "text/plain": [
       "interactive(children=(FloatSlider(value=0.0, description='a', max=3.0, min=-3.0, step=0.5), Output()), _dom_cl…"
      ]
     },
     "metadata": {},
     "output_type": "display_data"
    },
    {
     "data": {
      "text/plain": [
       "<function __main__.f(a)>"
      ]
     },
     "execution_count": 3,
     "metadata": {},
     "output_type": "execute_result"
    }
   ],
   "source": [
    "def f(a):\n",
    "    xmin = -1\n",
    "    xmax =  1\n",
    "    \n",
    "    xs = np.linspace(xmin, xmax)\n",
    "    ys = a * xs\n",
    "    plt.plot([xmin, xmax], [0, 0], \"k--\")\n",
    "    plt.plot([0, 0], [xmin, xmax],  \"k--\")\n",
    "    plt.plot(xs, ys, lw=2)\n",
    "    plt.xlim(xmin, xmax)\n",
    "    plt.ylim(-1, 1)\n",
    "    plt.xlabel(\"$x_1$\")\n",
    "    plt.ylabel(\"$x_2$\")\n",
    "\n",
    "interact(f, a=(-3, 3, 0.5))"
   ]
  },
  {
   "cell_type": "markdown",
   "metadata": {},
   "source": [
    "では、曲線の傾きはどのように定義されるでしょうか。それは特定の点における接線の傾きとして定義されます。\n",
    "\n",
    "関数$f(x)$の$x=x_0$における傾きを次のような記号を使って表現します。\n",
    "\n",
    "$$\n",
    "\\frac{df}{dx}(x_0)\n",
    "$$"
   ]
  },
  {
   "cell_type": "code",
   "execution_count": 4,
   "metadata": {
    "pycharm": {
     "is_executing": false
    }
   },
   "outputs": [
    {
     "data": {
      "application/vnd.jupyter.widget-view+json": {
       "model_id": "4693525e47934065a591db880aa24f1c",
       "version_major": 2,
       "version_minor": 0
      },
      "text/plain": [
       "interactive(children=(FloatSlider(value=0.0, description='x0', max=1.0, min=-1.0, step=0.25), Output()), _dom_…"
      ]
     },
     "metadata": {},
     "output_type": "display_data"
    },
    {
     "data": {
      "text/plain": [
       "<function __main__.f(x0)>"
      ]
     },
     "execution_count": 4,
     "metadata": {},
     "output_type": "execute_result"
    }
   ],
   "source": [
    "def plot_slope(x0, label):\n",
    "    ys = 2*x0*(xs - x0) + x0*x0\n",
    "    plt.plot(xs, ys, label=\"slope at x={}\".format(x0))\n",
    "\n",
    "def f(x0):\n",
    "    y0 = x0*x0\n",
    "    plot_square()\n",
    "    \n",
    "    xmin = -1\n",
    "    xmax =  1\n",
    "    \n",
    "    xs = np.linspace(xmin, xmax)\n",
    "    ys = 2*x0*(xs - x0) + x0*x0\n",
    "    plt.plot([xmin, xmax], [0, 0], \"k--\")\n",
    "    plt.plot([0, 0], [xmin, xmax],  \"k--\")\n",
    "    plt.plot(xs, ys, lw=2)\n",
    "    plt.plot([x0], [y0], \"bo\")\n",
    "    plt.xlim(xmin, xmax)\n",
    "    plt.ylim(-1, 1)\n",
    "    plt.xlabel(\"$x$\")\n",
    "    plt.ylabel(\"$y$\")   \n",
    "    print(r\"df/dx = {}\".format(2*x0))\n",
    "\n",
    "interact(f, x0=(-1, 1, 0.25))    "
   ]
  },
  {
   "cell_type": "markdown",
   "metadata": {},
   "source": [
    "# 4.3.2 数値微分の例"
   ]
  },
  {
   "cell_type": "markdown",
   "metadata": {},
   "source": [
    "上記の計算では二次関数の微分の性質を使って、傾き(=微分)を計算しましたが一般の関数では正確な微分を計算することは難しいです。\n",
    "\n",
    "そこで、ここでは近似的な微分の計算手法である数値微分を導入します。"
   ]
  },
  {
   "cell_type": "markdown",
   "metadata": {},
   "source": [
    "$$\n",
    "\\frac{df}{dx}(x_0) \\approx \\frac{f(x0+h)-f(x0)}{h}\n",
    "$$"
   ]
  },
  {
   "cell_type": "code",
   "execution_count": 5,
   "metadata": {
    "pycharm": {
     "is_executing": false
    }
   },
   "outputs": [
    {
     "name": "stdout",
     "output_type": "stream",
     "text": [
      "x0=1.0\n",
      "df/dx=2.0\n",
      "numerical diff = 2.000099999999172\n"
     ]
    }
   ],
   "source": [
    "def numerical_diff(f):\n",
    "    h = 1e-4\n",
    "    def __func__(x0):    \n",
    "        return (f(x0+h) - f(x0)) / h\n",
    "    return __func__\n",
    "\n",
    "def square(x):\n",
    "    return x*x\n",
    "\n",
    "x0 = 1.0\n",
    "print(\"x0={}\".format(square(x0)))\n",
    "print(\"df/dx={}\".format(2*x0))\n",
    "print(\"numerical diff = {}\".format(numerical_diff(square)(x0)))"
   ]
  },
  {
   "cell_type": "markdown",
   "metadata": {},
   "source": [
    "小さい$h$を使えば、二点の間を通る直線の傾きとして微分の近似値が計算できます。"
   ]
  },
  {
   "cell_type": "code",
   "execution_count": 6,
   "metadata": {
    "pycharm": {
     "is_executing": false
    }
   },
   "outputs": [
    {
     "data": {
      "application/vnd.jupyter.widget-view+json": {
       "model_id": "6949a2fb170444ce8f4234f57e1f3523",
       "version_major": 2,
       "version_minor": 0
      },
      "text/plain": [
       "interactive(children=(FloatSlider(value=0.31000000000000005, description='h', max=0.7, min=0.01), Output()), _…"
      ]
     },
     "metadata": {},
     "output_type": "display_data"
    },
    {
     "data": {
      "text/plain": [
       "<function __main__.f(h)>"
      ]
     },
     "execution_count": 6,
     "metadata": {},
     "output_type": "execute_result"
    }
   ],
   "source": [
    "xs = np.linspace(0, 1)\n",
    "\n",
    "\n",
    "def f(h):\n",
    "    ys = square(xs)\n",
    "    plt.plot(xs, ys, \"k\")\n",
    "    \n",
    "    x0 = 0.3\n",
    "    x1 = x0 + h\n",
    "    y0 = square(x0)\n",
    "    y1 = square(x1)\n",
    "    dydx = (y1-y0)/(x1-x0)\n",
    "    ys = dydx * (xs-x0) + y0\n",
    "    plt.plot(xs, ys)\n",
    "    plt.plot([x0], [y0], \"bo\")\n",
    "    plt.plot([x1], [y1], \"ro\")    \n",
    "    \n",
    "    plt.plot([x0, x0], [0, 1], \"k--\")\n",
    "    plt.text(x0, -0.1, \"x0\", fontsize=15)\n",
    "\n",
    "    plt.plot([x1, x1], [0, 1], \"k--\")\n",
    "    plt.text(x1, -0.1, \"x0+h\", fontsize=15)\n",
    "    \n",
    "    plt.ylim(0, 1.0)\n",
    "    plt.xlabel(\"x\")\n",
    "    plt.ylabel(\"y\")\n",
    "\n",
    "interact(f, h=(0.01, 0.7, 0.1))"
   ]
  },
  {
   "cell_type": "markdown",
   "metadata": {},
   "source": [
    "$h$が有限である限り、上記の数値積分は真の微分にはなりません。真の微分は、$h$を限りなく0に近づけた時の極限値として定義されます。\n",
    "\n",
    "$$\n",
    "    \\frac{df}{dx}(x_0) = \\lim_{h\\rightarrow 0} \\frac{f(x_0+h)-f(x_0)}{h}\n",
    "$$\n"
   ]
  },
  {
   "cell_type": "markdown",
   "metadata": {},
   "source": [
    "# 4.3 偏微分"
   ]
  },
  {
   "cell_type": "markdown",
   "metadata": {},
   "source": [
    "変数が多数ある関数の傾きを考えます。例えば、関数$f(x_1, x_2)$の$x_1$のみの傾きを偏微分と呼び、次のように表現します。\n",
    "\n",
    "$$\n",
    "\\frac{\\partial f}{\\partial x_1}\n",
    "$$"
   ]
  },
  {
   "cell_type": "markdown",
   "metadata": {},
   "source": [
    "# 4.4 勾配法"
   ]
  },
  {
   "cell_type": "markdown",
   "metadata": {},
   "source": [
    "損失関数を最小化するような重み(${\\bf W}$)を計算することで最良のニューラルネットワークが計算できます。そして、関数の最小化は傾きが0になるような点を探索することで得られます。合わせて考えると、損失関数に対する重みの傾き(微分)が0になる点を探索すればよいことになります\n",
    "\n",
    "このような傾き０の点を探索する計算の代表例として勾配法があります。これはつぎのように計算した傾きを引き算する計算を繰り返す方法です。\n",
    "\n",
    "$$\n",
    "    x := x - \\eta\\frac{d f}{d x}\n",
    "$$\n",
    "\n",
    "ここで$\\eta$はパラメータで、この値が大きいほど一つ一つのstepが大きくなります。"
   ]
  },
  {
   "cell_type": "code",
   "execution_count": 7,
   "metadata": {
    "pycharm": {
     "is_executing": true
    }
   },
   "outputs": [
    {
     "data": {
      "application/vnd.jupyter.widget-view+json": {
       "model_id": "ec0e30b291194673a7cb7a120434c92c",
       "version_major": 2,
       "version_minor": 0
      },
      "text/plain": [
       "interactive(children=(FloatSlider(value=0.21000000000000002, description='eta', max=0.5, min=0.01, step=0.05),…"
      ]
     },
     "metadata": {},
     "output_type": "display_data"
    },
    {
     "data": {
      "text/plain": [
       "<function __main__.f(eta)>"
      ]
     },
     "execution_count": 7,
     "metadata": {},
     "output_type": "execute_result"
    }
   ],
   "source": [
    "from functools import reduce\n",
    "\n",
    "def f(eta):\n",
    "    func = square\n",
    "    \n",
    "    xs = np.linspace(-1, 1)\n",
    "    ys = func(xs)\n",
    "    plt.plot(xs, ys, \"k\")\n",
    "\n",
    "    x_init = 0.8\n",
    "    xs = [x_init]\n",
    "    for i in range(10):\n",
    "        x0  = xs[-1]\n",
    "        dfdx = numerical_diff(func)(x0)\n",
    "        x1 = x0 - eta * dfdx\n",
    "        xs.append(x1)\n",
    "    \n",
    "    xs = np.array(xs)\n",
    "    ys = func(xs)\n",
    "    plt.plot(xs, ys, \"o\")\n",
    "    \n",
    "    y_init = func(x_init)\n",
    "    plt.plot(x_init, y_init, \"r\")\n",
    "    \n",
    "    plt.xlim(-1, 1)\n",
    "    plt.ylim(0, 1)\n",
    "    \n",
    "interact(f, eta=(0.01, 0.5, 0.05))"
   ]
  },
  {
   "cell_type": "markdown",
   "metadata": {
    "pycharm": {
     "name": "#%% md\n"
    }
   },
   "source": [
    "# 4.5 学習アルゴリズムの実装\n",
    "\n",
    "ここまでに出てきた内容を復習すると、ニューラルネットワークは、適応可能な重みとバイアスがあり、この重みとバイアスを訓練データに適応するように調整することを「学習」と呼びます。\n",
    "\n",
    "ニューラルネットワークの学習は、次の 4 つの手順で行います。\n",
    "\n",
    "1. ミニバッチ\n",
    "  - 訓練データの中からランダムに一部のデータ（ミニバッチ）を選び出す。\n",
    "2. 勾配の算出\n",
    "  - ミニバッチの損失関数の値を減らすために、各重みパラメータの勾配を求める。\n",
    "3. パラメータの更新\n",
    "  - 重みパラメータを勾配方向に微小量だけ更新する。\n",
    "4. 繰り返す\n",
    "  - ステップ 1-3 を繰り返す。\n",
    "\n",
    "ミニバッチとして無作為に選ばれたデータを使用しているので、この方法は **確率的勾配降下法**（stochastic gradient descent）と呼ばれます。\n",
    "\n",
    "ここでは、手書き数字を学習する 2 層（隠れ層が 1 層）のニューラルネットワークを対象に、 MNIST データセットを使って学習を行います。\n",
    "\n",
    "## 4.5.1 2 層ニューラルネットワークのクラス"
   ]
  },
  {
   "cell_type": "code",
   "execution_count": 8,
   "metadata": {
    "pycharm": {
     "is_executing": false,
     "name": "#%%\n"
    }
   },
   "outputs": [
    {
     "name": "stdout",
     "output_type": "stream",
     "text": [
      "(784, 100)\n",
      "(100,)\n",
      "(100, 10)\n",
      "(10,)\n",
      "(784, 100)\n",
      "(100,)\n",
      "(100, 10)\n",
      "(100,)\n"
     ]
    }
   ],
   "source": [
    "import numpy as np\n",
    "\n",
    "from common.functions import *\n",
    "from common.gradient import numerical_gradient\n",
    "\n",
    "# 2 層ニューラルネットワークのクラス\n",
    "class TwoLayerNet:\n",
    "\n",
    "    # 初期化処理\n",
    "    # input_size:入力層のニューロンの数, hidden_size:隠れ層のニューロンの数, output_size:出力層のニューロンの数\n",
    "    def __init__(self, input_size, hidden_size, output_size, weight_init_std=0.01):\n",
    "        self.params = {}\n",
    "        self.params['W1'] = weight_init_std * np.random.randn(input_size, hidden_size)\n",
    "        self.params['b1'] = np.zeros(hidden_size)\n",
    "        self.params['W2'] = weight_init_std * np.random.randn(hidden_size, output_size)\n",
    "        self.params['b2'] = np.zeros(output_size)\n",
    "\n",
    "    # 認識（推論）処理\n",
    "    # x:画像データ\n",
    "    def predict(self, x):\n",
    "        W1, W2 = self.params['W1'], self.params['W2']\n",
    "        b1, b2 = self.params['b1'], self.params['b2']\n",
    "\n",
    "        a1 = np.dot(x, W1) + b1\n",
    "        z1 = sigmoid(a1)\n",
    "        a2 = np.dot(z1, W2) + b2\n",
    "        y = softmax(a2)\n",
    "\n",
    "        return y\n",
    "\n",
    "    # 損失関数の値を求める\n",
    "    # x:画像データ, t:正解ラベル\n",
    "    def loss(self, x, t):\n",
    "        y = self.predict(x)\n",
    "\n",
    "        return cross_entropy_error(y, t)\n",
    "\n",
    "    # 認識精度を求める\n",
    "    # x:入力データ, t:教師データ\n",
    "    def accuracy(self, x, t):\n",
    "        y = self.predict(x)\n",
    "        y = np.argmax(y, axis=1)\n",
    "        t = np.argmax(t, axis=1)\n",
    "\n",
    "        accuracy = np.sum(y == t) / float(x.shape[0])\n",
    "        return accuracy\n",
    "\n",
    "    # 重みパラメータに対する勾配を求める\n",
    "    # x:入力データ, t:教師データ\n",
    "    def numerical_gradient(self, x, t):\n",
    "        loss_W = lambda W: self.loss(x, t)\n",
    "\n",
    "        grads = {}\n",
    "        grads['W1'] = numerical_gradient(loss_W, self.params['W1'])\n",
    "        grads['b1'] = numerical_gradient(loss_W, self.params['b1'])\n",
    "        grads['W2'] = numerical_gradient(loss_W, self.params['W2'])\n",
    "        grads['b2'] = numerical_gradient(loss_W, self.params['b2'])\n",
    "\n",
    "        return grads\n",
    "\n",
    "    # 重みパラメータに対する勾配を求める\n",
    "    # numerical_gradient() の高速版（詳細は次章）\n",
    "    def gradient(self, x, t):\n",
    "        W1, W2 = self.params['W1'], self.params['W2']\n",
    "        b1, b2 = self.params['b1'], self.params['b2']\n",
    "        grads = {}\n",
    "\n",
    "        batch_num = x.shape[0]\n",
    "\n",
    "        # forward\n",
    "        a1 = np.dot(x, W1) + b1\n",
    "        z1 = sigmoid(a1)\n",
    "        a2 = np.dot(z1, W2) + b2\n",
    "        y = softmax(a2)\n",
    "\n",
    "        # backward\n",
    "        dy = (y - t) / batch_num\n",
    "        grads['W2'] = np.dot(z1.T, dy)\n",
    "        grads['b2'] = np.sum(dy, axis=0)\n",
    "\n",
    "        dz1 = np.dot(dy, W2.T)\n",
    "        da1 = sigmoid_grad(a1) * dz1\n",
    "        grads['W1'] = np.dot(x.T, da1)\n",
    "        grads['b1'] = np.sum(da1, axis=0)\n",
    "\n",
    "        return grads\n",
    "\n",
    "net = TwoLayerNet(input_size=784, hidden_size=100, output_size=10)\n",
    "print(net.params['W1'].shape) # 1 層目の重み\n",
    "print(net.params['b1'].shape) # 1 層目のバイアス\n",
    "print(net.params['W2'].shape) # 2 層目の重み\n",
    "print(net.params['b2'].shape) # 2 層目のバイアス\n",
    "\n",
    "x = np.random.rand(10, 784) # ダミーの入力データ（100 枚分）\n",
    "t = np.random.rand(10, 10)  # ダミーの正解ラベル（100 枚分）\n",
    "\n",
    "grads = net.numerical_gradient(x, t) # 勾配を計算\n",
    "\n",
    "print(grads['W1'].shape) # 1 層目の重みの勾配\n",
    "print(grads['b1'].shape) # 1 層目のバイアスの勾配\n",
    "print(grads['W2'].shape) # 2 層目の重みの勾配\n",
    "print(grads['b1'].shape) # 2 層目のバイアスの勾配"
   ]
  },
  {
   "cell_type": "markdown",
   "metadata": {
    "pycharm": {
     "name": "#%% md\n"
    }
   },
   "source": [
    "## 4.5.2 ミニバッチ学習の実装"
   ]
  },
  {
   "cell_type": "code",
   "execution_count": null,
   "metadata": {
    "pycharm": {
     "is_executing": true,
     "name": "#%%\n"
    }
   },
   "outputs": [],
   "source": [
    "import numpy as np\n",
    "import matplotlib.pyplot as plt\n",
    "from dataset.mnist import load_mnist\n",
    "\n",
    "# データの読み込み\n",
    "(x_train, t_train), (x_test, t_test) = load_mnist(normalize=True)\n",
    "\n",
    "train_loss_list = []\n",
    "\n",
    "# ハイパーパラメータ\n",
    "iters_num = 10000\n",
    "train_size = x_train.shape[0]\n",
    "batch_size = 100\n",
    "learning_rate = 0.1\n",
    "\n",
    "network = TwoLayerNet(input_size=784, hidden_size=50, output_size=10)\n",
    "\n",
    "for i in range(iters_num):\n",
    "    # ミニバッチの取得\n",
    "    batch_mask = np.random.choice(train_size, batch_size)\n",
    "    x_batch = x_train[batch_mask]\n",
    "    t_batch = t_train[batch_mask]\n",
    "\n",
    "    # 勾配の計算\n",
    "    grad = network.numerical_gradient(x_batch, t_batch)\n",
    "    # grad = network.gradient(x_batch, t_batch)\n",
    "\n",
    "    # パラメータの更新\n",
    "    for key in ('W1', 'b1', 'W2', 'b2'):\n",
    "        network.params[key] -= learning_rate * grad[key]\n",
    "\n",
    "    # 学習経過の記録\n",
    "    loss = network.loss(x_batch, t_batch)\n",
    "    train_loss_list.append(loss)\n",
    "\n",
    "# グラフの描画\n",
    "x = np.arange(len(train_loss_list))\n",
    "plt.plot(x, train_loss_list, label='train loss')\n",
    "plt.xlabel(\"iteration\")\n",
    "plt.ylabel(\"loss\")\n",
    "plt.show()\n"
   ]
  },
  {
   "cell_type": "markdown",
   "metadata": {
    "pycharm": {
     "name": "#%% md\n"
    }
   },
   "source": [
    "## 4.5.3 テストデータで評価"
   ]
  },
  {
   "cell_type": "code",
   "execution_count": null,
   "metadata": {
    "pycharm": {
     "is_executing": true,
     "name": "#%%\n"
    }
   },
   "outputs": [],
   "source": [
    "import numpy as np\n",
    "import matplotlib.pyplot as plt\n",
    "from dataset.mnist import load_mnist\n",
    "\n",
    "# データの読み込み\n",
    "(x_train, t_train), (x_test, t_test) = load_mnist(normalize=True, one_hot_label=True)\n",
    "\n",
    "network = TwoLayerNet(input_size=784, hidden_size=50, output_size=10)\n",
    "\n",
    "iters_num = 10000\n",
    "train_size = x_train.shape[0]\n",
    "batch_size = 100\n",
    "learning_rate = 0.1\n",
    "\n",
    "train_loss_list = []\n",
    "train_acc_list = []\n",
    "test_acc_list = []\n",
    "\n",
    "# 1 エポックあたりの繰り返し数\n",
    "iter_per_epoch = max(train_size / batch_size, 1)\n",
    "\n",
    "for i in range(iters_num):\n",
    "    # ミニバッチの取得\n",
    "    batch_mask = np.random.choice(train_size, batch_size)\n",
    "    x_batch = x_train[batch_mask]\n",
    "    t_batch = t_train[batch_mask]\n",
    "    \n",
    "    # 勾配の計算\n",
    "    grad = network.numerical_gradient(x_batch, t_batch)\n",
    "    # grad = network.gradient(x_batch, t_batch)\n",
    "    \n",
    "    # パラメータの更新\n",
    "    for key in ('W1', 'b1', 'W2', 'b2'):\n",
    "        network.params[key] -= learning_rate * grad[key]\n",
    "    \n",
    "    loss = network.loss(x_batch, t_batch)\n",
    "    train_loss_list.append(loss)\n",
    "    \n",
    "    # 1 エポックごとに認識精度を計算\n",
    "    if i % iter_per_epoch == 0:\n",
    "        train_acc = network.accuracy(x_train, t_train)\n",
    "        test_acc = network.accuracy(x_test, t_test)\n",
    "        train_acc_list.append(train_acc)\n",
    "        test_acc_list.append(test_acc)\n",
    "        print(\"train acc, test acc | \" + str(train_acc) + \", \" + str(test_acc))\n",
    "\n",
    "# グラフの描画\n",
    "markers = {'train': 'o', 'test': 's'}\n",
    "x = np.arange(len(train_acc_list))\n",
    "plt.plot(x, train_acc_list, label='train acc')\n",
    "plt.plot(x, test_acc_list, label='test acc', linestyle='--')\n",
    "plt.xlabel(\"epochs\")\n",
    "plt.ylabel(\"accuracy\")\n",
    "plt.ylim(0, 1.0)\n",
    "plt.legend(loc='lower right')\n",
    "plt.show()"
   ]
  }
 ],
 "metadata": {
  "kernelspec": {
   "display_name": "Python 3",
   "language": "python",
   "name": "python3"
  },
  "language_info": {
   "codemirror_mode": {
    "name": "ipython",
    "version": 3
   },
   "file_extension": ".py",
   "mimetype": "text/x-python",
   "name": "python",
   "nbconvert_exporter": "python",
   "pygments_lexer": "ipython3",
   "version": "3.7.5"
  },
  "pycharm": {
   "stem_cell": {
    "cell_type": "raw",
    "source": [],
    "metadata": {
     "collapsed": false
    }
   }
  }
 },
 "nbformat": 4,
 "nbformat_minor": 2
}