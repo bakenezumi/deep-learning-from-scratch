{
 "cells": [
  {
   "cell_type": "markdown",
   "metadata": {},
   "source": [
    "# 第二章　パーセプトロン"
   ]
  },
  {
   "cell_type": "markdown",
   "metadata": {},
   "source": [
    "## Introduction"
   ]
  },
  {
   "cell_type": "markdown",
   "metadata": {},
   "source": [
    "機械学習は様々な分野に応用されていますが、いずれの場合も **入力** に対して **出力** があります。例えば、\n",
    "1. 画像認識では画像が **入力** で画像に対する判定(犬なのか猫なのかなど)が**出力**\n",
    "2. CTR推定ではBidRequestが **入力** になりCTR推定値が **出力**\n",
    "\n",
    "機械学習で行っていることは、この入力から出力を計算する\"規則\"を大量のデータから決定することです。\n",
    "機械学習には様々な種類がありますが、違いはこの”規則”として何を使っているかという点だけです。ディープラーニングではニューラルネットワークと呼ばれるネットワーク構造を使います。\n",
    "\n",
    "[ゼロから作るDeep Learning] ( 以下、テキストと呼ぶ)の第二章では入力から出力を計算する簡単なモデルであるパーセプトロンを使ってANDゲートやORゲートを作る問題を考えます。上の**入力**と**出力**に対応させて考えると、\n",
    "3. 二つのビットが**入力**で、一つのビットが**出力**\n",
    "になります。"
   ]
  },
  {
   "cell_type": "markdown",
   "metadata": {},
   "source": [
    "# Import"
   ]
  },
  {
   "cell_type": "code",
   "execution_count": 1,
   "metadata": {},
   "outputs": [],
   "source": [
    "import numpy as np\n",
    "import matplotlib.pyplot as plt\n",
    "from itertools import product\n",
    "from ipywidgets import interact"
   ]
  },
  {
   "cell_type": "markdown",
   "metadata": {},
   "source": [
    "## 2.1 パーセプトロンとは"
   ]
  },
  {
   "cell_type": "markdown",
   "metadata": {},
   "source": [
    "テキスト図2-1参照\n",
    "\n",
    "２つの入力$x_1, x_2$とパラメータ$w_1, w_2, \\theta$から一つの出力$y$を計算する2入力パーセプトロンを定義します。"
   ]
  },
  {
   "cell_type": "code",
   "execution_count": 2,
   "metadata": {},
   "outputs": [],
   "source": [
    "def two_perceptron(w1, w2, theta):\n",
    "    def __func__(x1, x2):\n",
    "        if(x1*w1+x2*w2<=theta):\n",
    "            return 0\n",
    "        else:\n",
    "            return 1\n",
    "    return __func__\n",
    "\n",
    "def print_result(perceptron):\n",
    "    # print all results calculated from perceptron\n",
    "    print(\"x1, x2, y\")\n",
    "    for (x1, x2) in product([0, 1], [0, 1]):\n",
    "        print(\"{},   {},   {}\".format(x1, x2, perceptron(x1, x2)))        "
   ]
  },
  {
   "cell_type": "markdown",
   "metadata": {},
   "source": [
    "## 2.2　単純な論理回路"
   ]
  },
  {
   "cell_type": "markdown",
   "metadata": {},
   "source": [
    "### ANDゲート"
   ]
  },
  {
   "cell_type": "markdown",
   "metadata": {},
   "source": [
    "パラメータを適切に設定するとANDゲートを再現できます。方法は一つではなく無限個あります。"
   ]
  },
  {
   "cell_type": "code",
   "execution_count": 3,
   "metadata": {},
   "outputs": [
    {
     "name": "stdout",
     "output_type": "stream",
     "text": [
      "x1, x2, y\n",
      "0,   0,   0\n",
      "0,   1,   0\n",
      "1,   0,   0\n",
      "1,   1,   1\n"
     ]
    }
   ],
   "source": [
    "w1 = 1\n",
    "w2 = 1\n",
    "theta = 1\n",
    "AND = two_perceptron(w1, w2, theta)\n",
    "print_result(AND)"
   ]
  },
  {
   "cell_type": "markdown",
   "metadata": {},
   "source": [
    "### ORゲート"
   ]
  },
  {
   "cell_type": "code",
   "execution_count": 4,
   "metadata": {},
   "outputs": [
    {
     "name": "stdout",
     "output_type": "stream",
     "text": [
      "x1, x2, y\n",
      "0,   0,   0\n",
      "0,   1,   1\n",
      "1,   0,   1\n",
      "1,   1,   1\n"
     ]
    }
   ],
   "source": [
    "w1 = 1\n",
    "w2 = 1\n",
    "theta = 0\n",
    "OR = two_perceptron(w1, w2, theta)\n",
    "print_result(OR)"
   ]
  },
  {
   "cell_type": "markdown",
   "metadata": {},
   "source": [
    "# 2.3.3 重みとバイアスによる実装"
   ]
  },
  {
   "cell_type": "markdown",
   "metadata": {},
   "source": [
    "後の拡張に備えてしきい値$\\theta$に代わりバイアス$b$を用います。ベクトルを使ってパーセプトロンを再実装します。"
   ]
  },
  {
   "cell_type": "code",
   "execution_count": 5,
   "metadata": {},
   "outputs": [],
   "source": [
    "def two_perceptron_bias(w1, w2, b):\n",
    "    def __func__(x1, x2):\n",
    "        xs = np.array([x1, x2])\n",
    "        ws = np.array([w1, w2])\n",
    "        if(np.sum(xs*ws)+b<=0):\n",
    "            return 0\n",
    "        else:\n",
    "            return 1\n",
    "    return __func__\n",
    "\n",
    "def print_result_bias(p):\n",
    "    print(\"x1, x2, y\")\n",
    "    for (x1, x2) in product([0, 1], [0, 1]):\n",
    "        print(\"{},   {},   {}\".format(x1, x2, p(x1, x2)))        "
   ]
  },
  {
   "cell_type": "markdown",
   "metadata": {},
   "source": [
    "ANDやORの計算は先と同様に可能です。"
   ]
  },
  {
   "cell_type": "code",
   "execution_count": 6,
   "metadata": {},
   "outputs": [
    {
     "name": "stdout",
     "output_type": "stream",
     "text": [
      "AND\n",
      "x1, x2, y\n",
      "0,   0,   0\n",
      "0,   1,   0\n",
      "1,   0,   0\n",
      "1,   1,   1\n",
      "\n",
      "OR\n",
      "x1, x2, y\n",
      "0,   0,   0\n",
      "0,   1,   1\n",
      "1,   0,   1\n",
      "1,   1,   1\n",
      "\n",
      "NAND\n",
      "x1, x2, y\n",
      "0,   0,   1\n",
      "0,   1,   1\n",
      "1,   0,   1\n",
      "1,   1,   0\n"
     ]
    }
   ],
   "source": [
    "AND = two_perceptron_bias(1, 1, -1.5)\n",
    "print(\"AND\")\n",
    "print_result_bias(AND)\n",
    "OR = two_perceptron_bias(1, 1, -0.5)\n",
    "print(\"\\nOR\")\n",
    "print_result_bias(OR)\n",
    "NAND = two_perceptron_bias(-1, -1, 1.5)\n",
    "print(\"\\nNAND\")\n",
    "print_result_bias(NAND)"
   ]
  },
  {
   "cell_type": "markdown",
   "metadata": {},
   "source": [
    "ここで、パーセプトロンの動作を図示してみます。一般に$w_1x_1+w_2x_2+b=0$は($x_1, x_2$)平面の上で直線を表現します。なので、パーセプトロンの二値は直線で分断された領域をそれぞれ表現しています。"
   ]
  },
  {
   "cell_type": "code",
   "execution_count": 7,
   "metadata": {},
   "outputs": [],
   "source": [
    "def widget_two_perceptron(result_gate):\n",
    "    def f(w1, w2, b):\n",
    "        xmin = -1\n",
    "        xmax =  2\n",
    "    \n",
    "        x1s = np.linspace(xmin, xmax)\n",
    "        x2s = (-w1*x1s-b)/w2\n",
    "        plt.plot(x1s, x2s, \"k\", lw=2)\n",
    "        plt.fill_between(x1s, x2s, np.linspace(xmin-1, xmin-1), color=\"pink\")\n",
    "        plt.plot([-1, 3], [0, 0], \"k--\")\n",
    "        plt.plot([0, 0], [-1, 3], \"k--\")\n",
    "    \n",
    "        for (i, j) in product([0, 1], [0, 1]):\n",
    "            if result_gate[i][j] == 0:\n",
    "                c = \"ro\"\n",
    "            else:\n",
    "                c = \"b^\"\n",
    "            plt.plot([i], [j], c)\n",
    "    \n",
    "        plt.xlim(xmin, xmax)\n",
    "        plt.ylim(xmin, xmax)\n",
    "        plt.xlabel(\"$x_1$\")\n",
    "        plt.ylabel(\"$x_2$\")\n",
    "\n",
    "    interact(f, w1=(0.25, 2, 0.25), w2=(0.25, +2, 0.25), b=(-2, 2, 0.5))"
   ]
  },
  {
   "cell_type": "markdown",
   "metadata": {},
   "source": [
    "下の図は、テキストの図2.6に対応する図でORに対するパーセプトロンの可視化を行なっています。"
   ]
  },
  {
   "cell_type": "code",
   "execution_count": 8,
   "metadata": {},
   "outputs": [
    {
     "name": "stdout",
     "output_type": "stream",
     "text": [
      "OR\n"
     ]
    },
    {
     "data": {
      "application/vnd.jupyter.widget-view+json": {
       "model_id": "8e4736ec0b7e4e0da3687ddd68713126",
       "version_major": 2,
       "version_minor": 0
      },
      "text/plain": [
       "interactive(children=(FloatSlider(value=1.0, description='w1', max=2.0, min=0.25, step=0.25), FloatSlider(valu…"
      ]
     },
     "metadata": {},
     "output_type": "display_data"
    }
   ],
   "source": [
    "print(\"OR\")\n",
    "widget_two_perceptron([[0, 1], [1, 1]])"
   ]
  },
  {
   "cell_type": "markdown",
   "metadata": {},
   "source": [
    "青は1を赤は0を表現している。\n",
    "\n",
    "ORの点の分布の形から、適切にパラメータを設定すれば、単一の直線で0(赤)と1(青)を分割できる。これが、OR回路をパーセプトロンで表現できる要因です。"
   ]
  },
  {
   "cell_type": "markdown",
   "metadata": {},
   "source": [
    "AND回路は？"
   ]
  },
  {
   "cell_type": "markdown",
   "metadata": {},
   "source": [
    "次にXOR回路をパーセプトロンで表現することを考える。先と同様に、$(x_1, x_2)$平面で考える。"
   ]
  },
  {
   "cell_type": "code",
   "execution_count": 9,
   "metadata": {},
   "outputs": [
    {
     "name": "stdout",
     "output_type": "stream",
     "text": [
      "XOR\n"
     ]
    },
    {
     "data": {
      "application/vnd.jupyter.widget-view+json": {
       "model_id": "2010e7e0667f4d73a79f40c7b96611a2",
       "version_major": 2,
       "version_minor": 0
      },
      "text/plain": [
       "interactive(children=(FloatSlider(value=1.0, description='w1', max=2.0, min=0.25, step=0.25), FloatSlider(valu…"
      ]
     },
     "metadata": {},
     "output_type": "display_data"
    }
   ],
   "source": [
    "print(\"XOR\")\n",
    "widget_two_perceptron([[0, 1], [1, 0]])"
   ]
  },
  {
   "cell_type": "markdown",
   "metadata": {},
   "source": [
    "どような直線を用いても、XORの0と1を分割することはできません。"
   ]
  },
  {
   "cell_type": "markdown",
   "metadata": {},
   "source": [
    "## 2.5.2 XORゲートの実装"
   ]
  },
  {
   "cell_type": "markdown",
   "metadata": {},
   "source": [
    "デジタル回路ではよく知られているように、ANDとORを組み合わせてXORを表現できます。今回のパーセプトロンの場合には次のように既存のパーセプトロンを組み合わせることで,XORが表現できます。"
   ]
  },
  {
   "cell_type": "code",
   "execution_count": 10,
   "metadata": {},
   "outputs": [
    {
     "name": "stdout",
     "output_type": "stream",
     "text": [
      "x1, x2, y\n",
      "0,   0,   0\n",
      "0,   1,   1\n",
      "1,   0,   1\n",
      "1,   1,   0\n"
     ]
    }
   ],
   "source": [
    "AND = two_perceptron_bias(1, 1, -1)\n",
    "OR = two_perceptron_bias(1, 1, 0)\n",
    "def XOR(x1, x2):\n",
    "    s1 = NAND(x1, x2)\n",
    "    s2 = OR(x1, x2)\n",
    "    y = AND(s1, s2)\n",
    "    return y\n",
    "print_result_bias(XOR)"
   ]
  },
  {
   "cell_type": "markdown",
   "metadata": {},
   "source": [
    "これは、複数のゲートを組み合わせているので最初の一層のパーセプトロンに対して多層パーセプトロンと呼ばれます。テキストの図2-13を参照。"
   ]
  },
  {
   "cell_type": "markdown",
   "metadata": {},
   "source": [
    "多層パーセプトロンが示す領域を体感するために、第一層のパーセプトロンをNANDおよびORに固定して、第二層のパーセプトロンを変化させながら、出力が0になる領域を図示します。"
   ]
  },
  {
   "cell_type": "code",
   "execution_count": 14,
   "metadata": {},
   "outputs": [
    {
     "data": {
      "application/vnd.jupyter.widget-view+json": {
       "model_id": "12e5dca71740444bae1e54023eaa6aa4",
       "version_major": 2,
       "version_minor": 0
      },
      "text/plain": [
       "interactive(children=(FloatSlider(value=1.0, description='w11', max=1.5, min=0.5, step=0.5), FloatSlider(value…"
      ]
     },
     "metadata": {},
     "output_type": "display_data"
    }
   ],
   "source": [
    "def plot_gate(gate):\n",
    "    for (i, j) in product([0, 1], [0, 1]):\n",
    "        if gate[i][j] == 0:\n",
    "            c = \"ro\"\n",
    "        else:\n",
    "            c = \"b^\"\n",
    "        plt.plot([i], [j], c)\n",
    "    \n",
    "def widget_2layer_2perceptron(result_gate):\n",
    "    def f(w11, w12, b1, w21, w22, b2):\n",
    "        xmin = -1\n",
    "        xmax =  2\n",
    "        \n",
    "        #         AND = two_perceptron_bias(w1, w2, b)\n",
    "        #         AND = two_perceptron_bias(1, 1, -1.5)        \n",
    "        gate1 = two_perceptron_bias(w11, w12, b1)\n",
    "        gate2 = two_perceptron_bias(w21, w22, b2)\n",
    "    \n",
    "        xs = np.linspace(xmin, xmax)\n",
    "        x12s = list(product(xs, xs))\n",
    "        x1s = np.array([x1 for (x1, x2) in x12s])\n",
    "        x2s = np.array([x2 for (x1, x2) in x12s])\n",
    "        \n",
    "        s1s = [gate1(x1, x2) for (x1, x2) in x12s]\n",
    "        s2s = [gate2(x1, x2) for (x1, x2) in x12s]\n",
    "        ys = np.array([AND(s1, s2) for (s1, s2) in zip(s1s, s2s)])\n",
    "        \n",
    "        x1s_0 = np.array(x1s)[ys==0]\n",
    "        x2s_0 = np.array(x2s)[ys==0]\n",
    "        \n",
    "        plt.plot(x1s_0, x2s_0, \"x\", color=\"pink\")\n",
    "        plt.plot([xmin, xmax], [0, 0], \"k--\")\n",
    "        plt.plot([0, 0], [xmin, xmax], \"k--\")\n",
    "    \n",
    "        plot_gate(result_gate)\n",
    "    \n",
    "        plt.xlim(xmin, xmax)\n",
    "        plt.ylim(xmin, xmax)\n",
    "        plt.xlabel(\"$x_1$\")\n",
    "        plt.ylabel(\"$x_2$\")\n",
    "        plt.show()\n",
    "\n",
    "    interact(f, \n",
    "             w11=(0.5, 1.5, 0.5), w12=(0.5, 1.5, 0.5), b1=(-1.5, +0.5, 0.5), \n",
    "             w21=(-1.5, -0.5, 0.5), w22=(-1.5, -0.5, 0.5), b2=(0.5, 2.5, 0.5))\n",
    "    \n",
    "widget_2layer_2perceptron([[0, 1], [1, 0]])"
   ]
  }
 ],
 "metadata": {
  "kernelspec": {
   "display_name": "Python 3",
   "language": "python",
   "name": "python3"
  },
  "language_info": {
   "codemirror_mode": {
    "name": "ipython",
    "version": 3
   },
   "file_extension": ".py",
   "mimetype": "text/x-python",
   "name": "python",
   "nbconvert_exporter": "python",
   "pygments_lexer": "ipython3",
   "version": "3.7.4"
  }
 },
 "nbformat": 4,
 "nbformat_minor": 2
}
