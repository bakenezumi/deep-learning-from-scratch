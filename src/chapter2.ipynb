{
 "cells": [
  {
   "cell_type": "markdown",
   "metadata": {},
   "source": [
    "# 第二章　パーセプトロン"
   ]
  },
  {
   "cell_type": "markdown",
   "metadata": {},
   "source": [
    "## Introduction"
   ]
  },
  {
   "cell_type": "markdown",
   "metadata": {},
   "source": [
    "機械学習は様々な分野に応用されていますが、いずれの場合も入力に対して出力があります。例えば、\n",
    "1. 画像認識では画像が入力で画像に対する判定(犬なのか猫なのかなど)が出力\n",
    "2. CTR推定ではBidRequestが入力になりCTR推定値が出力\n",
    "\n",
    "機械学習で行っていることは、この入力から出力を計算する\"規則\"を大量のデータから決定することです。\n",
    "機械学習には様々な種類がありますが、違いはこの”規則”として何を使っているかという点だけです。ディープラーニングではニューラルネットワークと呼ばれるネットワーク構造を使います。\n",
    "\n",
    "[ゼロから作るDeep Learning] ( 以下、テキストと呼ぶ)の第二章では入力から出力を計算する簡単なモデルであるパーセプトロンを使ってAND回路やOR回路を作る問題を考えます。"
   ]
  },
  {
   "cell_type": "markdown",
   "metadata": {},
   "source": [
    "## 2.1 パーセプトロンとは"
   ]
  },
  {
   "cell_type": "markdown",
   "metadata": {},
   "source": [
    "テキスト図2-1参照\n",
    "\n",
    "２つの入力$x_1, x_2$とパラメータ$w_1, w_2, \\theta$から一つの出力$y$を計算する2入力パーセプトロンを定義します。"
   ]
  },
  {
   "cell_type": "code",
   "execution_count": 10,
   "metadata": {},
   "outputs": [],
   "source": [
    "def two_perceptron(w1, w2, theta):\n",
    "    def __func__(x1, x2):\n",
    "        if(x1*w1+x2*w2<=theta):\n",
    "            return 0\n",
    "        else:\n",
    "            return 1\n",
    "    return __func__"
   ]
  },
  {
   "cell_type": "markdown",
   "metadata": {},
   "source": [
    "## 2.2　単純な論理回路"
   ]
  },
  {
   "cell_type": "code",
   "execution_count": 57,
   "metadata": {},
   "outputs": [],
   "source": [
    "import itertools\n",
    "def print_result(w1, w2, theta):\n",
    "    p = two_perceptron(w1, w2, theta)\n",
    "    print(\"x1, x2, y\")\n",
    "    for (x1, x2) in itertools.product([0, 1], [0, 1]):\n",
    "        print(\"{},   {},   {}\".format(x1, x2, p(x1, x2)))        "
   ]
  },
  {
   "cell_type": "markdown",
   "metadata": {},
   "source": [
    "### ANDゲート"
   ]
  },
  {
   "cell_type": "markdown",
   "metadata": {},
   "source": [
    "パラメータを適切に設定するとANDゲートを再現できます。方法は一つではなく無限個あります。"
   ]
  },
  {
   "cell_type": "code",
   "execution_count": 61,
   "metadata": {},
   "outputs": [
    {
     "name": "stdout",
     "output_type": "stream",
     "text": [
      "x1, x2, y\n",
      "0,   0,   0\n",
      "0,   1,   0\n",
      "1,   0,   0\n",
      "1,   1,   1\n"
     ]
    }
   ],
   "source": [
    "w1 = 1\n",
    "w2 = 1\n",
    "theta = 1\n",
    "print_result(w1, w2, theta)"
   ]
  },
  {
   "cell_type": "markdown",
   "metadata": {},
   "source": [
    "### ORゲート"
   ]
  },
  {
   "cell_type": "code",
   "execution_count": 32,
   "metadata": {},
   "outputs": [
    {
     "name": "stdout",
     "output_type": "stream",
     "text": [
      "x1, x2, y\n",
      "0,   0,   0\n",
      "0,   1,   1\n",
      "1,   0,   1\n",
      "1,   1,   1\n"
     ]
    }
   ],
   "source": [
    "w1 = 1\n",
    "w2 = 1\n",
    "theta = 0\n",
    "print_result(w1, w2, theta)"
   ]
  },
  {
   "cell_type": "markdown",
   "metadata": {},
   "source": [
    "# 2.3.3 重みとバイアスによる実装"
   ]
  },
  {
   "cell_type": "markdown",
   "metadata": {},
   "source": [
    "後の拡張に備えてしきい値$\\theta$に代わりバイアス$b$を用います。ベクトルを使ってパーセプトロンを再実装します。"
   ]
  },
  {
   "cell_type": "code",
   "execution_count": 117,
   "metadata": {},
   "outputs": [],
   "source": [
    "def two_perceptron_bias(w1, w2, b):\n",
    "    def __func__(x1, x2):\n",
    "        xs = np.array([x1, x2])\n",
    "        ws = np.array([w1, w2])\n",
    "        if(np.sum(xs*ws)+b<=0):\n",
    "            return 0\n",
    "        else:\n",
    "            return 1\n",
    "    return __func__\n",
    "\n",
    "def print_result_bias(p):\n",
    "    print(\"x1, x2, y\")\n",
    "    for (x1, x2) in itertools.product([0, 1], [0, 1]):\n",
    "        print(\"{},   {},   {}\".format(x1, x2, p(x1, x2)))        "
   ]
  },
  {
   "cell_type": "markdown",
   "metadata": {},
   "source": [
    "ANDやORの計算は先と同様に可能です。"
   ]
  },
  {
   "cell_type": "code",
   "execution_count": 142,
   "metadata": {},
   "outputs": [
    {
     "name": "stdout",
     "output_type": "stream",
     "text": [
      "x1, x2, y\n",
      "0,   0,   0\n",
      "0,   1,   0\n",
      "1,   0,   0\n",
      "1,   1,   1\n",
      "x1, x2, y\n",
      "0,   0,   0\n",
      "0,   1,   1\n",
      "1,   0,   1\n",
      "1,   1,   1\n",
      "x1, x2, y\n",
      "0,   0,   1\n",
      "0,   1,   1\n",
      "1,   0,   1\n",
      "1,   1,   0\n"
     ]
    }
   ],
   "source": [
    "AND = two_perceptron_bias(1, 1, -1)\n",
    "print_result_bias(AND)\n",
    "OR = two_perceptron_bias(1, 1, 0)\n",
    "print_result_bias(OR)\n",
    "NAND = two_perceptron_bias(-1, -1, 2)\n",
    "print_result_bias(NAND)"
   ]
  },
  {
   "cell_type": "markdown",
   "metadata": {},
   "source": [
    "ここで、パーセプトロンの動作を図示してみます。一般に$w_1x_1+w_2x_2+b=0$は($x_1, x_2$)平面の上で直線を表現します。なので、パーセプトロンの二値は直線で分断された領域をそれぞれ表現しています。\n",
    "\n",
    "下の図は、テキストの図2.6に対応する図でORに対するパーセプトロンの可視化をしている。"
   ]
  },
  {
   "cell_type": "code",
   "execution_count": 110,
   "metadata": {},
   "outputs": [
    {
     "data": {
      "application/vnd.jupyter.widget-view+json": {
       "model_id": "e3a5fb744e834fb4825181ec3d75cf92",
       "version_major": 2,
       "version_minor": 0
      },
      "text/plain": [
       "interactive(children=(FloatSlider(value=1.0, description='w1', max=2.0, min=0.25, step=0.25), FloatSlider(valu…"
      ]
     },
     "metadata": {},
     "output_type": "display_data"
    },
    {
     "data": {
      "text/plain": [
       "<function __main__.f(w1, w2, b)>"
      ]
     },
     "execution_count": 110,
     "metadata": {},
     "output_type": "execute_result"
    }
   ],
   "source": [
    "def f(w1, w2, b):\n",
    "    xmin = -1\n",
    "    xmax =  2\n",
    "    \n",
    "    x1s = np.linspace(xmin, xmax)\n",
    "    x2s = (-w1*x1s-b)/w2\n",
    "    plt.plot(x1s, x2s, \"k\", lw=2)\n",
    "    plt.fill_between(x1s, x2s, np.linspace(xmin-1, xmin-1), color=\"pink\")\n",
    "    plt.plot([-1, 3], [0, 0], \"k--\")\n",
    "    plt.plot([0, 0], [-1, 3], \"k--\")\n",
    "    \n",
    "    plt.plot([0], [0], \"ro\")\n",
    "    plt.plot([0], [1], \"b^\")\n",
    "    plt.plot([1], [0], \"b^\")\n",
    "    plt.plot([1], [1], \"b^\")    \n",
    "    \n",
    "    plt.xlim(xmin, xmax)\n",
    "    plt.ylim(xmin, xmax)\n",
    "    plt.xlabel(\"$x_1$\")\n",
    "    plt.ylabel(\"$x_2$\")\n",
    "\n",
    "interact(f, w1=(0.25, 2, 0.25), w2=(0.25, +2, 0.25), b=(-2, 2, 0.5))"
   ]
  },
  {
   "cell_type": "markdown",
   "metadata": {},
   "source": [
    "青は1を赤は0を表現している。\n",
    "\n",
    "ORの点の分布の形から、適切にパラメータを設定すれば、単一の直線で0(赤)と1(青)を分割できる。これが、OR回路をパーセプトロンで表現できる要因です。"
   ]
  },
  {
   "cell_type": "markdown",
   "metadata": {},
   "source": [
    "AND回路は？"
   ]
  },
  {
   "cell_type": "markdown",
   "metadata": {},
   "source": [
    "次にXOR回路をパーセプトロンで表現することを考える。先と同様に、$(x_1, x_2)$平面で考える。"
   ]
  },
  {
   "cell_type": "code",
   "execution_count": 111,
   "metadata": {},
   "outputs": [
    {
     "data": {
      "application/vnd.jupyter.widget-view+json": {
       "model_id": "fa8821e01d034c91be927118f47d6bee",
       "version_major": 2,
       "version_minor": 0
      },
      "text/plain": [
       "interactive(children=(FloatSlider(value=1.0, description='w1', max=2.0, min=0.25, step=0.25), FloatSlider(valu…"
      ]
     },
     "metadata": {},
     "output_type": "display_data"
    },
    {
     "data": {
      "text/plain": [
       "<function __main__.f(w1, w2, b)>"
      ]
     },
     "execution_count": 111,
     "metadata": {},
     "output_type": "execute_result"
    }
   ],
   "source": [
    "def f(w1, w2, b):\n",
    "    xmin = -1\n",
    "    xmax =  2\n",
    "    \n",
    "    x1s = np.linspace(xmin, xmax)\n",
    "    x2s = (-w1*x1s-b)/w2\n",
    "    plt.plot(x1s, x2s, \"k\", lw=2)\n",
    "    plt.fill_between(x1s, x2s, np.linspace(xmin-1, xmin-1), color=\"pink\")\n",
    "    plt.plot([-1, 3], [0, 0], \"k--\")\n",
    "    plt.plot([0, 0], [-1, 3], \"k--\")\n",
    "    \n",
    "    plt.plot([0], [0], \"ro\")\n",
    "    plt.plot([0], [1], \"b^\")\n",
    "    plt.plot([1], [0], \"b^\")\n",
    "    plt.plot([1], [1], \"ro\")    \n",
    "    \n",
    "    plt.xlim(xmin, xmax)\n",
    "    plt.ylim(xmin, xmax)\n",
    "    plt.xlabel(\"$x_1$\")\n",
    "    plt.ylabel(\"$x_2$\")\n",
    "\n",
    "interact(f, w1=(0.25, 2, 0.25), w2=(0.25, +2, 0.25), b=(-2, 2, 0.5))"
   ]
  },
  {
   "cell_type": "markdown",
   "metadata": {},
   "source": [
    "どような直線を用いても、XORの0と1を分割することはできない。"
   ]
  },
  {
   "cell_type": "markdown",
   "metadata": {},
   "source": [
    "## 2.5.2 XORゲートの実装"
   ]
  },
  {
   "cell_type": "markdown",
   "metadata": {},
   "source": [
    "デジタル回路ではよく知られているように、ANDとORを組み合わせてXORを表現できる。"
   ]
  },
  {
   "cell_type": "code",
   "execution_count": 143,
   "metadata": {},
   "outputs": [
    {
     "name": "stdout",
     "output_type": "stream",
     "text": [
      "x1, x2, y\n",
      "0,   0,   0\n",
      "0,   1,   1\n",
      "1,   0,   1\n",
      "1,   1,   0\n"
     ]
    }
   ],
   "source": [
    "AND = two_perceptron_bias(1, 1, -1)\n",
    "OR = two_perceptron_bias(1, 1, 0)\n",
    "def XOR(x1, x2):\n",
    "    s1 = NAND(x1, x2)\n",
    "    s2 = OR(x1, x2)\n",
    "    y = AND(s1, s2)\n",
    "    return y\n",
    "print_result_bias(XOR)"
   ]
  },
  {
   "cell_type": "markdown",
   "metadata": {},
   "source": [
    "これは、複数のゲートを組み合わせているので最初の一層のパーセプトロンに対して多層パーセプトロンと呼ばれる。"
   ]
  }
 ],
 "metadata": {
  "kernelspec": {
   "display_name": "Python 3",
   "language": "python",
   "name": "python3"
  },
  "language_info": {
   "codemirror_mode": {
    "name": "ipython",
    "version": 3
   },
   "file_extension": ".py",
   "mimetype": "text/x-python",
   "name": "python",
   "nbconvert_exporter": "python",
   "pygments_lexer": "ipython3",
   "version": "3.6.4"
  }
 },
 "nbformat": 4,
 "nbformat_minor": 2
}
