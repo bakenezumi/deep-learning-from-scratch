{
 "cells": [
  {
   "cell_type": "markdown",
   "metadata": {},
   "source": [
    "# 第三章 ニューラルネットワーク"
   ]
  },
  {
   "cell_type": "markdown",
   "metadata": {},
   "source": [
    "# Introduction"
   ]
  },
  {
   "cell_type": "markdown",
   "metadata": {},
   "source": []
  },
  {
   "cell_type": "markdown",
   "metadata": {},
   "source": [
    "# Import"
   ]
  },
  {
   "cell_type": "code",
   "execution_count": 1,
   "metadata": {},
   "outputs": [],
   "source": [
    "import numpy as np\n",
    "import matplotlib.pyplot as plt\n",
    "from itertools import product\n",
    "from ipywidgets import interact"
   ]
  },
  {
   "cell_type": "markdown",
   "metadata": {},
   "source": [
    "## 3.1 パーセプトロンからニューラルネットワークへ"
   ]
  },
  {
   "cell_type": "markdown",
   "metadata": {},
   "source": [
    "パーセプトロンの実装を次のように関数$h$とそれ以外の部分に分けて考えます。\n",
    "\n",
    "$$\n",
    "y = h(w_1x_1+w_2x_2+b)\n",
    "$$\n",
    "\n",
    "$$\n",
    "h(x) =   \\begin{cases}\n",
    "    0 \\ \\ \\ (x<0)\\\\\n",
    "    1 \\ \\ \\  (x>0)\n",
    "  \\end{cases}\n",
    "$$"
   ]
  },
  {
   "cell_type": "markdown",
   "metadata": {},
   "source": [
    "関数$h$をプロットすると、次のような階段のような形状をしています。"
   ]
  },
  {
   "cell_type": "markdown",
   "metadata": {},
   "source": [
    "# 3.2 活性化関数"
   ]
  },
  {
   "cell_type": "markdown",
   "metadata": {},
   "source": [
    "関数$h$として、異なる形状の関数を用いることもできます。例えば、恒等関数やシグモイド関数、ReLU関数などが使われています。\n",
    "$$\n",
    "\\begin{align}\n",
    "h(x) &= x \\ \\ \\ &\\mathrm{(identity)} \\\\\n",
    "h(x) &= \\frac{1}{1 + \\exp(-x)} \\ \\ \\ &\\mathrm{(sigmoid)} \\\\\n",
    "h(x) &=   \\begin{cases}\n",
    "    0 \\ \\ \\ (x<0)\\\\\n",
    "    x \\ \\ \\  (x>0)\n",
    "  \\end{cases} \\ \\ \\ &\\mathrm{(ReLu)} \\\\ \n",
    "\\end{align}\n",
    "$$"
   ]
  },
  {
   "cell_type": "code",
   "execution_count": 15,
   "metadata": {},
   "outputs": [
    {
     "data": {
      "text/plain": [
       "Text(0, 0.5, '$y$')"
      ]
     },
     "execution_count": 15,
     "metadata": {},
     "output_type": "execute_result"
    },
    {
     "data": {
      "image/png": "[encoded data removed]",
      "text/plain": [
       "<Figure size 432x288 with 1 Axes>"
      ]
     },
     "metadata": {
      "needs_background": "light"
     },
     "output_type": "display_data"
    }
   ],
   "source": [
    "def step_func(x):\n",
    "    return 0 if x<0 else 1\n",
    "\n",
    "def sigmoid(x):\n",
    "    return 1/(1+np.exp(-x))\n",
    "    \n",
    "def relu(x):\n",
    "    return np.max([0, x])\n",
    "\n",
    "xm = -3\n",
    "xs = np.linspace(-xm, xm, 500)\n",
    "plt.plot(xs, [step_func(x) for x in xs], label=\"identity\")\n",
    "plt.plot(xs, [sigmoid(x) for x in xs], label=\"sigmoid\")\n",
    "plt.plot(xs, [relu(x) for x in xs], label=\"ReLU\")\n",
    "plt.legend()\n",
    "plt.xlabel(r\"$x$\")\n",
    "plt.ylabel(r\"$y$\")"
   ]
  },
  {
   "cell_type": "markdown",
   "metadata": {},
   "source": [
    "## 3.3 多次元配列の計算"
   ]
  },
  {
   "cell_type": "markdown",
   "metadata": {},
   "source": [
    "二層のニューラルネットワークの計算を活性関数を抜きに愚直に表現すると次のようになります。(テキスト図3-14)\n",
    "$$\n",
    "y_1 = w_{11}x_1 + w_{12}x_2 + b_1 \\\\\n",
    "y_2 = w_{21}x_1 + w_{22}x_2 + b_2 \\\\\n",
    "y_3 = w_{31}x_1 + w_{32}x_2 + b_3\n",
    "$$\n",
    "\n",
    "ニューラルネットワークに置いて、上記の計算は頻出するので行列とベクトルを用いて次のように簡略化して表現します。\n",
    "$$\n",
    "{\\bf y} = {\\bf Wx} + {\\bf b} \\\\\n",
    "$$\n",
    "\n",
    "ここで、次のような表記を導入しています。\n",
    "$$\n",
    "{\\bf x} = (x_1, x_2) \\\\\n",
    "{\\bf y} = (y_1, y_2, y_3) \\\\\n",
    "{\\bf b} = (b_1, b_2, b_3)\n",
    "$$\n",
    "\n",
    "活性関数を合わせて考えると、ニューラルネットワークの計算は上記の行列計算(ネットワーク部分)と活性関数の計算を交互に繰り返して最終的な出力を計算します。"
   ]
  },
  {
   "cell_type": "code",
   "execution_count": 16,
   "metadata": {},
   "outputs": [],
   "source": [
    "class network():\n",
    "    def __init__(self):\n",
    "        self.W1 = np.array([[0.1, 0.3, 0.5], [0.2, 0.4, 0.6]])\n",
    "        self.b1 = np.array([0.1, 0.3, 0.5])\n",
    "        self.W2 = np.array([[0.1, 0.2], [0.2, 0.5], [0.3, 0.6]])\n",
    "        self.b2 = np.array([0.1, 0.3])\n",
    "        self.W3 = np.array([[0.1, 0.2], [0.2, 0.5]])\n",
    "        self.b3 = np.array([0.1, 0.2])\n",
    "        \n",
    "    def forward(self, x):\n",
    "        a1 = np.dot(x, W1) + b1\n",
    "        z1 = sigmoid(a1)\n",
    "        a2 = np.dot(z1, W2) + b2\n",
    "        z2 = sigmoid(a2)\n",
    "        a3 = np.dot(z2, W3) + b3\n",
    "        y = a3      "
   ]
  }
 ],
 "metadata": {
  "kernelspec": {
   "display_name": "Python 3",
   "language": "python",
   "name": "python3"
  },
  "language_info": {
   "codemirror_mode": {
    "name": "ipython",
    "version": 3
   },
   "file_extension": ".py",
   "mimetype": "text/x-python",
   "name": "python",
   "nbconvert_exporter": "python",
   "pygments_lexer": "ipython3",
   "version": "3.7.4"
  }
 },
 "nbformat": 4,
 "nbformat_minor": 2
}
