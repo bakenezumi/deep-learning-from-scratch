{
 "cells": [
  {
   "cell_type": "markdown",
   "metadata": {},
   "source": [
    "# 第５章　誤差逆伝搬法"
   ]
  },
  {
   "cell_type": "markdown",
   "metadata": {},
   "source": [
    "第4章では数値微分と勾配法を使って、ニューラルネットワークの学習が可能であることを示しました。実際の学習では計算時間および計算精度の観点から数値微分は使われずに、ニューラルネットワークの解析的微分を効率よく計算するためのアルゴリズムである誤差逆伝搬法が使われます。この章では誤差逆伝搬法を学習します。"
   ]
  },
  {
   "cell_type": "markdown",
   "metadata": {},
   "source": [
    "## 単純な関数の解析的微分"
   ]
  },
  {
   "cell_type": "markdown",
   "metadata": {},
   "source": [
    "単純な関数の微分は解析的な表現が知られていることが多いです。\n",
    "\n",
    "$$\n",
    "\\frac{d}{dx}x^n = nx^{n-1} \\\\\n",
    "\\frac{d}{dx}\\sin(ax) = a\\cos(ax) \\\\\n",
    "\\frac{d}{dx}\\exp(ax) = a\\exp(ax) \\\\\n",
    "$$\n"
   ]
  },
  {
   "cell_type": "markdown",
   "metadata": {},
   "source": [
    "## 合成関数の微分"
   ]
  },
  {
   "cell_type": "markdown",
   "metadata": {},
   "source": [
    "では、複雑な関数の微分はどのように計算するのでしょうか。ここで二つの関数\n",
    "$$\n",
    "y = f(x) \\\\\n",
    "z = g(y)\n",
    "$$\n",
    "が与えられていると、その合成関数$g\\circ f$を考えます。\n",
    "$$\n",
    "(g\\circ f)(x) = g(f(x))\n",
    "$$\n",
    "\n",
    "多くの複雑な関数は単純な関数の合成で表現することができることに注意してください。\n",
    "実は、合成関数$g\\circ f$の微分は次のように、部品となった関数$f, g$の微分で表現することができます。\n",
    "\n",
    "$$\n",
    "    \\frac{d}{dx}(g\\circ f)(x) = \\frac{dg}{dx}f(x) + g(x)\\frac{df}{dx}\n",
    "$$\n",
    "\n",
    "ニューラルネットワークも上記のような簡単な関数の合成で構築されているので、解析的に微分を計算することが可能です。"
   ]
  }
 ],
 "metadata": {
  "kernelspec": {
   "display_name": "Python 3",
   "language": "python",
   "name": "python3"
  },
  "language_info": {
   "codemirror_mode": {
    "name": "ipython",
    "version": 3
   },
   "file_extension": ".py",
   "mimetype": "text/x-python",
   "name": "python",
   "nbconvert_exporter": "python",
   "pygments_lexer": "ipython3",
   "version": "3.7.4"
  }
 },
 "nbformat": 4,
 "nbformat_minor": 2
}
